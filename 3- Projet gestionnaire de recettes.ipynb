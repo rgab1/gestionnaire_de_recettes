{
 "cells": [
  {
   "cell_type": "markdown",
   "id": "1c0ca399",
   "metadata": {},
   "source": [
    "# 3- Projet : Gestionnaire de recettes"
   ]
  },
  {
   "cell_type": "markdown",
   "id": "ec1dbc09",
   "metadata": {},
   "source": [
    "**Objectif :** Créer un programme qui permet à l'utilisateur d'ajouter des recettes à un carnet de recettes (un fichier recette.txt), de les lire, et de les rechercher par ingrédient.\n",
    "\n",
    "**Étapes :**\n",
    "\n",
    "1. Affichez un menu permettant à l'utilisateur de choisir parmi les options suivantes :\n",
    "\n",
    "- Ajouter une recette\n",
    "- Voir toutes les recettes\n",
    "- Rechercher une recette par ingrédient\n",
    "- Quitter le programme\n",
    "\n",
    "2. Chaque recette est composée d'un titre, d'une liste d'ingrédients et d'une méthode.\n",
    "\n",
    "3. Utilisez des exceptions pour gérer des erreurs comme des problèmes de fichiers.\n",
    "\n",
    "4. Ne pas oublier de vérifier systématiquement l'existence du fichier à l'aide du module os.\n",
    "\n"
   ]
  },
  {
   "cell_type": "markdown",
   "id": "d5f0dda8",
   "metadata": {},
   "source": [
    "### 1. Créer un fichier à la racine du projet recette.txt"
   ]
  },
  {
   "cell_type": "markdown",
   "id": "91d2a9fa",
   "metadata": {},
   "source": [
    "### 2. Créer la fonction afficher_menu"
   ]
  },
  {
   "cell_type": "code",
   "execution_count": 1,
   "id": "7e330729",
   "metadata": {},
   "outputs": [],
   "source": [
    "def afficher_menu():\n",
    "    while True:\n",
    "        print(\"Menu:\")\n",
    "        print(\"1. Ajouter une recette\")\n",
    "        print(\"2. Voir toutes les recettes\")\n",
    "        print(\"3. Rechercher une recette par ingrédient\")\n",
    "        print(\"4. Quitter le programme\")\n",
    "        user_choice = input(\"Que voulez-vous faire ? : \")\n",
    "        if user_choice == \"1\":\n",
    "            ajouter_recette()\n",
    "        elif user_choice == \"2\":\n",
    "            voir_recettes()\n",
    "        elif user_choice == \"3\":\n",
    "            rechercher_par_ingredient()\n",
    "        elif user_choice == \"4\":\n",
    "            print(\"Bye bye\")\n",
    "            break\n",
    "        else:\n",
    "            print(\"Veuillez entrer l'une des options proposées\")"
   ]
  },
  {
   "cell_type": "markdown",
   "id": "5f11abef",
   "metadata": {},
   "source": [
    "### 3. Créer la fonction ajouter_recette"
   ]
  },
  {
   "cell_type": "code",
   "execution_count": 2,
   "id": "3553efc1",
   "metadata": {},
   "outputs": [],
   "source": [
    "def ajouter_recette():\n",
    "    titre = input(\"Entrez le titre de la recette : \")\n",
    "    ingredients = input(\"Entrez la liste d'ingrédients (séparés par des virgules) : \").split(',')\n",
    "    methode = input(\"Entrez la méthode de préparation : \")\n",
    "    recette = {\"titre\": titre, \"ingredients\": ingredients, \"methode\": methode}\n",
    "    print(recette, \"debug 1\\n\\n\")\n",
    "    sauvegarder_recettes(recette)\n",
    "    print(\"Recette ajoutée avec succès!\")\n",
    "\n",
    "def sauvegarder_recettes(recette):\n",
    "    try:\n",
    "        with open(recettes_file, 'r') as f:\n",
    "            existing_data = json.load(f)\n",
    "    except (json.JSONDecodeError, FileNotFoundError):\n",
    "        existing_data = []\n",
    "    print(existing_data, \"debug 2\\n\\n\")\n",
    "    existing_data.append(recette)\n",
    "    print(existing_data, \"debug 3\\n\\n\")\n",
    "    with open(recettes_file, 'w') as f:\n",
    "        json.dump(existing_data, f, indent=2)"
   ]
  },
  {
   "cell_type": "markdown",
   "id": "dcbfc957",
   "metadata": {},
   "source": [
    "### 4. Créer la fonction voir_recettes"
   ]
  },
  {
   "cell_type": "code",
   "execution_count": 3,
   "id": "914f7b5a",
   "metadata": {},
   "outputs": [],
   "source": [
    "def voir_recettes():\n",
    "    print(\"Toutes les recettes :\")\n",
    "    for i, recette in enumerate(charger_recettes(), 1):\n",
    "        print(f\"{i}. {recette['titre']}\")\n",
    "\n",
    "def charger_recettes():\n",
    "    if os.path.exists(recettes_file):\n",
    "        with open(recettes_file, 'r') as f:\n",
    "            try:\n",
    "                recettes = json.load(f)\n",
    "                if isinstance(recettes, list):\n",
    "                    return recettes\n",
    "                else:\n",
    "                    print(\"Le fichier JSON ne contient pas une liste valide.\")\n",
    "                    return []\n",
    "            except json.JSONDecodeError:\n",
    "                print(\"Erreur de décodage JSON. Le fichier est probablement vide.\")\n",
    "                return []\n",
    "    else:\n",
    "        print(\"Le fichier JSON n'existe pas.\")\n",
    "        return []"
   ]
  },
  {
   "cell_type": "markdown",
   "id": "d31c2f00",
   "metadata": {},
   "source": [
    "### 5. Créer la fonction rechercher_recette_par_ingrédient"
   ]
  },
  {
   "cell_type": "code",
   "execution_count": 4,
   "id": "30a0ba19",
   "metadata": {},
   "outputs": [],
   "source": [
    "def rechercher_par_ingredient():\n",
    "    ingredient_recherche = input(\"Entrez l'ingrédient à rechercher : \")\n",
    "    recettes_trouvees = []\n",
    "\n",
    "    for recette in charger_recettes():\n",
    "        if ingredient_recherche.lower() in [i.lower() for i in recette['ingredients']]:\n",
    "            recettes_trouvees.append(recette)\n",
    "\n",
    "    if recettes_trouvees:\n",
    "        print(\"\\nRecettes contenant l'ingrédient recherché :\")\n",
    "        for i, recette in enumerate(recettes_trouvees, 1):\n",
    "            print(f\"{i}. {recette['titre']}\")\n",
    "    else:\n",
    "        print(f\"Aucune recette ne contient l'ingrédient : {ingredient_recherche}\")"
   ]
  },
  {
   "cell_type": "markdown",
   "id": "6b760752",
   "metadata": {},
   "source": [
    "### 6. Créer la fonction main"
   ]
  },
  {
   "cell_type": "code",
   "execution_count": 5,
   "id": "1cec04d0",
   "metadata": {},
   "outputs": [],
   "source": [
    "import os\n",
    "import json\n",
    "def main():\n",
    "    afficher_menu()\n",
    "\n",
    "main()"
   ]
  }
 ],
 "metadata": {
  "kernelspec": {
   "display_name": "Python 3 (ipykernel)",
   "language": "python",
   "name": "python3"
  },
  "language_info": {
   "codemirror_mode": {
    "name": "ipython",
    "version": 3
   },
   "file_extension": ".py",
   "mimetype": "text/x-python",
   "name": "python",
   "nbconvert_exporter": "python",
   "pygments_lexer": "ipython3",
   "version": "3.10.5"
  }
 },
 "nbformat": 4,
 "nbformat_minor": 5
}
